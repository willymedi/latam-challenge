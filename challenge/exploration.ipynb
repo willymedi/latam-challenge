{
 "cells": [
  {
   "cell_type": "code",
   "execution_count": 12,
   "metadata": {},
   "outputs": [],
   "source": [
    "import numpy as np\n",
    "import pandas as pd\n",
    "import matplotlib.pyplot as plt\n",
    "import seaborn as sns\n",
    "import warnings\n",
    "\n",
    "warnings.filterwarnings('ignore')"
   ]
  },
  {
   "attachments": {},
   "cell_type": "markdown",
   "metadata": {},
   "source": [
    "## 0. Load Data"
   ]
  },
  {
   "cell_type": "code",
   "execution_count": 13,
   "metadata": {},
   "outputs": [
    {
     "name": "stdout",
     "output_type": "stream",
     "text": [
      "<class 'pandas.core.frame.DataFrame'>\n",
      "RangeIndex: 68206 entries, 0 to 68205\n",
      "Data columns (total 18 columns):\n",
      " #   Column     Non-Null Count  Dtype \n",
      "---  ------     --------------  ----- \n",
      " 0   Fecha-I    68206 non-null  object\n",
      " 1   Vlo-I      68206 non-null  object\n",
      " 2   Ori-I      68206 non-null  object\n",
      " 3   Des-I      68206 non-null  object\n",
      " 4   Emp-I      68206 non-null  object\n",
      " 5   Fecha-O    68206 non-null  object\n",
      " 6   Vlo-O      68205 non-null  object\n",
      " 7   Ori-O      68206 non-null  object\n",
      " 8   Des-O      68206 non-null  object\n",
      " 9   Emp-O      68206 non-null  object\n",
      " 10  DIA        68206 non-null  int64 \n",
      " 11  MES        68206 non-null  int64 \n",
      " 12  AÑO        68206 non-null  int64 \n",
      " 13  DIANOM     68206 non-null  object\n",
      " 14  TIPOVUELO  68206 non-null  object\n",
      " 15  OPERA      68206 non-null  object\n",
      " 16  SIGLAORI   68206 non-null  object\n",
      " 17  SIGLADES   68206 non-null  object\n",
      "dtypes: int64(3), object(15)\n",
      "memory usage: 9.4+ MB\n"
     ]
    }
   ],
   "source": [
    "data = pd.read_csv('../data/data.csv')\n",
    "data.info()"
   ]
  },
  {
   "attachments": {},
   "cell_type": "markdown",
   "metadata": {},
   "source": [
    "## 1. Data Analysis: First Sight"
   ]
  },
  {
   "attachments": {},
   "cell_type": "markdown",
   "metadata": {},
   "source": [
    "### How is the date distribuited?"
   ]
  },
  {
   "cell_type": "code",
   "execution_count": 9,
   "metadata": {},
   "outputs": [
    {
     "ename": "TypeError",
     "evalue": "barplot() takes from 0 to 1 positional arguments but 2 were given",
     "output_type": "error",
     "traceback": [
      "\u001b[1;31m---------------------------------------------------------------------------\u001b[0m",
      "\u001b[1;31mTypeError\u001b[0m                                 Traceback (most recent call last)",
      "\u001b[1;32mc:\\Users\\AORUS\\Documents\\ia\\latam-test\\challenge\\exploration.ipynb Cell 6\u001b[0m line \u001b[0;36m4\n\u001b[0;32m      <a href='vscode-notebook-cell:/c%3A/Users/AORUS/Documents/ia/latam-test/challenge/exploration.ipynb#W5sZmlsZQ%3D%3D?line=1'>2</a>\u001b[0m plt\u001b[39m.\u001b[39mfigure(figsize \u001b[39m=\u001b[39m (\u001b[39m10\u001b[39m, \u001b[39m2\u001b[39m))\n\u001b[0;32m      <a href='vscode-notebook-cell:/c%3A/Users/AORUS/Documents/ia/latam-test/challenge/exploration.ipynb#W5sZmlsZQ%3D%3D?line=2'>3</a>\u001b[0m sns\u001b[39m.\u001b[39mset(style\u001b[39m=\u001b[39m\u001b[39m\"\u001b[39m\u001b[39mdarkgrid\u001b[39m\u001b[39m\"\u001b[39m)\n\u001b[1;32m----> <a href='vscode-notebook-cell:/c%3A/Users/AORUS/Documents/ia/latam-test/challenge/exploration.ipynb#W5sZmlsZQ%3D%3D?line=3'>4</a>\u001b[0m sns\u001b[39m.\u001b[39;49mbarplot(flights_by_airline\u001b[39m.\u001b[39;49mindex, flights_by_airline\u001b[39m.\u001b[39;49mvalues, alpha\u001b[39m=\u001b[39;49m\u001b[39m0.9\u001b[39;49m)\n\u001b[0;32m      <a href='vscode-notebook-cell:/c%3A/Users/AORUS/Documents/ia/latam-test/challenge/exploration.ipynb#W5sZmlsZQ%3D%3D?line=4'>5</a>\u001b[0m plt\u001b[39m.\u001b[39mtitle(\u001b[39m'\u001b[39m\u001b[39mFlights by Airline\u001b[39m\u001b[39m'\u001b[39m)\n\u001b[0;32m      <a href='vscode-notebook-cell:/c%3A/Users/AORUS/Documents/ia/latam-test/challenge/exploration.ipynb#W5sZmlsZQ%3D%3D?line=5'>6</a>\u001b[0m plt\u001b[39m.\u001b[39mylabel(\u001b[39m'\u001b[39m\u001b[39mFlights\u001b[39m\u001b[39m'\u001b[39m, fontsize\u001b[39m=\u001b[39m\u001b[39m12\u001b[39m)\n",
      "\u001b[1;31mTypeError\u001b[0m: barplot() takes from 0 to 1 positional arguments but 2 were given"
     ]
    },
    {
     "data": {
      "text/plain": [
       "<Figure size 1000x200 with 0 Axes>"
      ]
     },
     "metadata": {},
     "output_type": "display_data"
    }
   ],
   "source": [
    "flights_by_airline = data['OPERA'].value_counts()\n",
    "plt.figure(figsize = (10, 2))\n",
    "sns.set(style=\"darkgrid\")\n",
    "sns.barplot(flights_by_airline.index, flights_by_airline.values, alpha=0.9)\n",
    "plt.title('Flights by Airline')\n",
    "plt.ylabel('Flights', fontsize=12)\n",
    "plt.xlabel('Airline', fontsize=12)\n",
    "plt.xticks(rotation=90)\n",
    "plt.show()"
   ]
  },
  {
   "cell_type": "code",
   "execution_count": null,
   "metadata": {},
   "outputs": [],
   "source": [
    "flights_by_day = data['DIA'].value_counts()\n",
    "plt.figure(figsize = (10, 2))\n",
    "sns.set(style = \"darkgrid\")\n",
    "sns.barplot(flights_by_day.index, flights_by_day.values, color = 'lightblue', alpha=0.8)\n",
    "plt.title('Flights by Day')\n",
    "plt.ylabel('Flights', fontsize=12)\n",
    "plt.xlabel('Day', fontsize=12)\n",
    "plt.xticks(rotation=90)\n",
    "plt.show()"
   ]
  },
  {
   "cell_type": "code",
   "execution_count": null,
   "metadata": {},
   "outputs": [],
   "source": [
    "flights_by_month = data['MES'].value_counts()\n",
    "plt.figure(figsize = (10, 2))\n",
    "sns.set(style = \"darkgrid\")\n",
    "sns.barplot(flights_by_month.index, flights_by_month.values, color = 'lightblue', alpha=0.8)\n",
    "plt.title('Flights by Month')\n",
    "plt.ylabel('Flights', fontsize=12)\n",
    "plt.xlabel('Month', fontsize=12)\n",
    "plt.xticks(rotation=90)\n",
    "plt.show()"
   ]
  },
  {
   "cell_type": "code",
   "execution_count": null,
   "metadata": {},
   "outputs": [],
   "source": [
    "flights_by_day_in_week = data['DIANOM'].value_counts()\n",
    "days = [\n",
    "    flights_by_day_in_week.index[2], \n",
    "    flights_by_day_in_week.index[5], \n",
    "    flights_by_day_in_week.index[4], \n",
    "    flights_by_day_in_week.index[1], \n",
    "    flights_by_day_in_week.index[0], \n",
    "    flights_by_day_in_week.index[6], \n",
    "    flights_by_day_in_week.index[3]\n",
    "]\n",
    "values_by_day = [\n",
    "    flights_by_day_in_week.values[2], \n",
    "    flights_by_day_in_week.values[5], \n",
    "    flights_by_day_in_week.values[4], \n",
    "    flights_by_day_in_week.values[1], \n",
    "    flights_by_day_in_week.values[0], \n",
    "    flights_by_day_in_week.values[6], \n",
    "    flights_by_day_in_week.values[3]\n",
    "]\n",
    "plt.figure(figsize = (10, 2))\n",
    "sns.set(style=\"darkgrid\")\n",
    "sns.barplot(days, values_by_day, color = 'lightblue', alpha=0.8)\n",
    "plt.title('Flights by Day in Week')\n",
    "plt.ylabel('Flights', fontsize=12)\n",
    "plt.xlabel('Day in Week', fontsize=12)\n",
    "plt.xticks(rotation=90)\n",
    "plt.show()"
   ]
  },
  {
   "cell_type": "code",
   "execution_count": null,
   "metadata": {},
   "outputs": [],
   "source": [
    "flights_by_type = data['TIPOVUELO'].value_counts()\n",
    "sns.set(style=\"darkgrid\")\n",
    "plt.figure(figsize = (10, 2))\n",
    "sns.barplot(flights_by_type.index, flights_by_type.values, alpha=0.9)\n",
    "plt.title('Flights by Type')\n",
    "plt.ylabel('Flights', fontsize=12)\n",
    "plt.xlabel('Type', fontsize=12)\n",
    "plt.show()"
   ]
  },
  {
   "cell_type": "code",
   "execution_count": null,
   "metadata": {},
   "outputs": [],
   "source": [
    "flight_by_destination = data['SIGLADES'].value_counts()\n",
    "plt.figure(figsize = (10, 2))\n",
    "sns.set(style=\"darkgrid\")\n",
    "sns.barplot(flight_by_destination.index, flight_by_destination.values, color = 'lightblue', alpha=0.8)\n",
    "plt.title('Flight by Destination')\n",
    "plt.ylabel('Flights', fontsize=12)\n",
    "plt.xlabel('Destination', fontsize=12)\n",
    "plt.xticks(rotation=90)\n",
    "\n",
    "plt.show()"
   ]
  },
  {
   "attachments": {},
   "cell_type": "markdown",
   "metadata": {},
   "source": [
    "## 2. Features Generation"
   ]
  },
  {
   "attachments": {},
   "cell_type": "markdown",
   "metadata": {},
   "source": [
    "### 2.a. Period of Day"
   ]
  },
  {
   "cell_type": "code",
   "execution_count": null,
   "metadata": {},
   "outputs": [],
   "source": [
    "from datetime import datetime\n",
    "\n",
    "def get_period_day(date):\n",
    "    date_time = datetime.strptime(date, '%Y-%m-%d %H:%M:%S').time()\n",
    "    morning_min = datetime.strptime(\"05:00\", '%H:%M').time()\n",
    "    morning_max = datetime.strptime(\"11:59\", '%H:%M').time()\n",
    "    afternoon_min = datetime.strptime(\"12:00\", '%H:%M').time()\n",
    "    afternoon_max = datetime.strptime(\"18:59\", '%H:%M').time()\n",
    "    evening_min = datetime.strptime(\"19:00\", '%H:%M').time()\n",
    "    evening_max = datetime.strptime(\"23:59\", '%H:%M').time()\n",
    "    night_min = datetime.strptime(\"00:00\", '%H:%M').time()\n",
    "    night_max = datetime.strptime(\"4:59\", '%H:%M').time()\n",
    "    \n",
    "    if(date_time > morning_min and date_time < morning_max):\n",
    "        return 'mañana'\n",
    "    elif(date_time > afternoon_min and date_time < afternoon_max):\n",
    "        return 'tarde'\n",
    "    elif(\n",
    "        (date_time > evening_min and date_time < evening_max) or\n",
    "        (date_time > night_min and date_time < night_max)\n",
    "    ):\n",
    "        return 'noche'"
   ]
  },
  {
   "cell_type": "code",
   "execution_count": null,
   "metadata": {},
   "outputs": [],
   "source": [
    "data['period_day'] = data['Fecha-I'].apply(get_period_day)"
   ]
  },
  {
   "attachments": {},
   "cell_type": "markdown",
   "metadata": {},
   "source": [
    "### 2.b. High Season"
   ]
  },
  {
   "cell_type": "code",
   "execution_count": null,
   "metadata": {},
   "outputs": [],
   "source": [
    "from datetime import datetime\n",
    "\n",
    "def is_high_season(fecha):\n",
    "    fecha_año = int(fecha.split('-')[0])\n",
    "    fecha = datetime.strptime(fecha, '%Y-%m-%d %H:%M:%S')\n",
    "    range1_min = datetime.strptime('15-Dec', '%d-%b').replace(year = fecha_año)\n",
    "    range1_max = datetime.strptime('31-Dec', '%d-%b').replace(year = fecha_año)\n",
    "    range2_min = datetime.strptime('1-Jan', '%d-%b').replace(year = fecha_año)\n",
    "    range2_max = datetime.strptime('3-Mar', '%d-%b').replace(year = fecha_año)\n",
    "    range3_min = datetime.strptime('15-Jul', '%d-%b').replace(year = fecha_año)\n",
    "    range3_max = datetime.strptime('31-Jul', '%d-%b').replace(year = fecha_año)\n",
    "    range4_min = datetime.strptime('11-Sep', '%d-%b').replace(year = fecha_año)\n",
    "    range4_max = datetime.strptime('30-Sep', '%d-%b').replace(year = fecha_año)\n",
    "    \n",
    "    if ((fecha >= range1_min and fecha <= range1_max) or \n",
    "        (fecha >= range2_min and fecha <= range2_max) or \n",
    "        (fecha >= range3_min and fecha <= range3_max) or\n",
    "        (fecha >= range4_min and fecha <= range4_max)):\n",
    "        return 1\n",
    "    else:\n",
    "        return 0"
   ]
  },
  {
   "cell_type": "code",
   "execution_count": null,
   "metadata": {},
   "outputs": [],
   "source": [
    "data['high_season'] = data['Fecha-I'].apply(is_high_season)"
   ]
  },
  {
   "attachments": {},
   "cell_type": "markdown",
   "metadata": {},
   "source": [
    "### 2.c. Difference in Minutes"
   ]
  },
  {
   "cell_type": "code",
   "execution_count": null,
   "metadata": {},
   "outputs": [],
   "source": [
    "def get_min_diff(data):\n",
    "    fecha_o = datetime.strptime(data['Fecha-O'], '%Y-%m-%d %H:%M:%S')\n",
    "    fecha_i = datetime.strptime(data['Fecha-I'], '%Y-%m-%d %H:%M:%S')\n",
    "    min_diff = ((fecha_o - fecha_i).total_seconds())/60\n",
    "    return min_diff"
   ]
  },
  {
   "cell_type": "code",
   "execution_count": null,
   "metadata": {},
   "outputs": [],
   "source": [
    "data['min_diff'] = data.apply(get_min_diff, axis = 1)"
   ]
  },
  {
   "attachments": {},
   "cell_type": "markdown",
   "metadata": {},
   "source": [
    "### 2.d. Delay"
   ]
  },
  {
   "cell_type": "code",
   "execution_count": null,
   "metadata": {},
   "outputs": [],
   "source": [
    "threshold_in_minutes = 15\n",
    "data['delay'] = np.where(data['min_diff'] > threshold_in_minutes, 1, 0)"
   ]
  },
  {
   "cell_type": "code",
   "execution_count": null,
   "metadata": {},
   "outputs": [],
   "source": [
    "data.columns"
   ]
  },
  {
   "attachments": {},
   "cell_type": "markdown",
   "metadata": {},
   "source": [
    "## 3. Data Analysis: Second Sight"
   ]
  },
  {
   "attachments": {},
   "cell_type": "markdown",
   "metadata": {},
   "source": [
    "### How is the delay rate across columns?"
   ]
  },
  {
   "cell_type": "code",
   "execution_count": null,
   "metadata": {},
   "outputs": [],
   "source": [
    "def get_rate_from_column(data, column):\n",
    "    delays = {}\n",
    "    for _, row in data.iterrows():\n",
    "        if row['delay'] == 1:\n",
    "            if row[column] not in delays:\n",
    "                delays[row[column]] = 1\n",
    "            else:\n",
    "                delays[row[column]] += 1\n",
    "    total = data[column].value_counts().to_dict()\n",
    "    \n",
    "    rates = {}\n",
    "    for name, total in total.items():\n",
    "        if name in delays:\n",
    "            rates[name] = round(total / delays[name], 2)\n",
    "        else:\n",
    "            rates[name] = 0\n",
    "            \n",
    "    return pd.DataFrame.from_dict(data = rates, orient = 'index', columns = ['Tasa (%)'])"
   ]
  },
  {
   "cell_type": "code",
   "execution_count": null,
   "metadata": {},
   "outputs": [],
   "source": [
    "destination_rate = get_rate_from_column(data, 'SIGLADES')\n",
    "destination_rate_values = data['SIGLADES'].value_counts().index\n",
    "plt.figure(figsize = (20,5))\n",
    "sns.set(style=\"darkgrid\")\n",
    "sns.barplot(destination_rate_values, destination_rate['Tasa (%)'], alpha = 0.75)\n",
    "plt.title('Delay Rate by Destination')\n",
    "plt.ylabel('Delay Rate [%]', fontsize=12)\n",
    "plt.xlabel('Destination', fontsize=12)\n",
    "plt.xticks(rotation=90)\n",
    "plt.show()\n"
   ]
  },
  {
   "cell_type": "code",
   "execution_count": null,
   "metadata": {},
   "outputs": [],
   "source": [
    "airlines_rate = get_rate_from_column(data, 'OPERA')\n",
    "airlines_rate_values = data['OPERA'].value_counts().index\n",
    "plt.figure(figsize = (20,5))\n",
    "sns.set(style=\"darkgrid\")\n",
    "sns.barplot(airlines_rate_values, airlines_rate['Tasa (%)'], alpha = 0.75)\n",
    "plt.title('Delay Rate by Airline')\n",
    "plt.ylabel('Delay Rate [%]', fontsize=12)\n",
    "plt.xlabel('Airline', fontsize=12)\n",
    "plt.xticks(rotation=90)\n",
    "plt.show()"
   ]
  },
  {
   "cell_type": "code",
   "execution_count": null,
   "metadata": {},
   "outputs": [],
   "source": [
    "month_rate = get_rate_from_column(data, 'MES')\n",
    "month_rate_value = data['MES'].value_counts().index\n",
    "plt.figure(figsize = (20,5))\n",
    "sns.set(style=\"darkgrid\")\n",
    "sns.barplot(month_rate_value, month_rate['Tasa (%)'], color = 'blue', alpha = 0.75)\n",
    "plt.title('Delay Rate by Month')\n",
    "plt.ylabel('Delay Rate [%]', fontsize=12)\n",
    "plt.xlabel('Month', fontsize=12)\n",
    "plt.xticks(rotation=90)\n",
    "plt.ylim(0,10)\n",
    "plt.show()"
   ]
  },
  {
   "cell_type": "code",
   "execution_count": null,
   "metadata": {},
   "outputs": [],
   "source": [
    "days_rate = get_rate_from_column(data, 'DIANOM')\n",
    "days_rate_value = data['DIANOM'].value_counts().index\n",
    "\n",
    "sns.set(style=\"darkgrid\")\n",
    "plt.figure(figsize = (20, 5))\n",
    "sns.barplot(days_rate_value, days_rate['Tasa (%)'], color = 'blue', alpha = 0.75)\n",
    "plt.title('Delay Rate by Day')\n",
    "plt.ylabel('Delay Rate [%]', fontsize=12)\n",
    "plt.xlabel('Days', fontsize=12)\n",
    "plt.xticks(rotation=90)\n",
    "plt.ylim(0,7)\n",
    "plt.show()"
   ]
  },
  {
   "cell_type": "code",
   "execution_count": null,
   "metadata": {},
   "outputs": [],
   "source": [
    "high_season_rate = get_rate_from_column(data, 'high_season')\n",
    "high_season_rate_values = data['high_season'].value_counts().index\n",
    "\n",
    "plt.figure(figsize = (5, 2))\n",
    "sns.set(style=\"darkgrid\")\n",
    "sns.barplot([\"no\", \"yes\"], high_season_rate['Tasa (%)'])\n",
    "plt.title('Delay Rate by Season')\n",
    "plt.ylabel('Delay Rate [%]', fontsize=12)\n",
    "plt.xlabel('High Season', fontsize=12)\n",
    "plt.xticks(rotation=90)\n",
    "plt.ylim(0,6)\n",
    "plt.show()"
   ]
  },
  {
   "cell_type": "code",
   "execution_count": null,
   "metadata": {},
   "outputs": [],
   "source": [
    "flight_type_rate = get_rate_from_column(data, 'TIPOVUELO')\n",
    "flight_type_rate_values = data['TIPOVUELO'].value_counts().index\n",
    "plt.figure(figsize = (5, 2))\n",
    "sns.set(style=\"darkgrid\")\n",
    "sns.barplot(flight_type_rate_values, flight_type_rate['Tasa (%)'])\n",
    "plt.title('Delay Rate by Flight Type')\n",
    "plt.ylabel('Delay Rate [%]', fontsize=12)\n",
    "plt.xlabel('Flight Type', fontsize=12)\n",
    "plt.ylim(0,7)\n",
    "plt.show()"
   ]
  },
  {
   "cell_type": "code",
   "execution_count": null,
   "metadata": {},
   "outputs": [],
   "source": [
    "period_day_rate = get_rate_from_column(data, 'period_day')\n",
    "period_day_rate_values = data['period_day'].value_counts().index\n",
    "plt.figure(figsize = (5, 2))\n",
    "sns.set(style=\"darkgrid\")\n",
    "sns.barplot(period_day_rate_values, period_day_rate['Tasa (%)'])\n",
    "plt.title('Delay Rate by Period of Day')\n",
    "plt.ylabel('Delay Rate [%]', fontsize=12)\n",
    "plt.xlabel('Period', fontsize=12)\n",
    "plt.ylim(3,7)\n",
    "plt.show()"
   ]
  },
  {
   "attachments": {},
   "cell_type": "markdown",
   "metadata": {},
   "source": [
    "## 4. Training"
   ]
  },
  {
   "attachments": {},
   "cell_type": "markdown",
   "metadata": {},
   "source": [
    "### 4.a. Data Split (Training and Validation)"
   ]
  },
  {
   "cell_type": "code",
   "execution_count": 10,
   "metadata": {},
   "outputs": [],
   "source": [
    "from sklearn.model_selection import train_test_split\n",
    "from sklearn.utils import shuffle\n",
    "from sklearn.metrics import confusion_matrix, classification_report"
   ]
  },
  {
   "cell_type": "code",
   "execution_count": 11,
   "metadata": {},
   "outputs": [
    {
     "ename": "KeyError",
     "evalue": "\"['delay'] not in index\"",
     "output_type": "error",
     "traceback": [
      "\u001b[1;31m---------------------------------------------------------------------------\u001b[0m",
      "\u001b[1;31mKeyError\u001b[0m                                  Traceback (most recent call last)",
      "\u001b[1;32mc:\\Users\\AORUS\\Documents\\ia\\latam-test\\challenge\\exploration.ipynb Cell 38\u001b[0m line \u001b[0;36m1\n\u001b[1;32m----> <a href='vscode-notebook-cell:/c%3A/Users/AORUS/Documents/ia/latam-test/challenge/exploration.ipynb#X52sZmlsZQ%3D%3D?line=0'>1</a>\u001b[0m training_data \u001b[39m=\u001b[39m shuffle(data[[\u001b[39m'\u001b[39;49m\u001b[39mOPERA\u001b[39;49m\u001b[39m'\u001b[39;49m, \u001b[39m'\u001b[39;49m\u001b[39mMES\u001b[39;49m\u001b[39m'\u001b[39;49m, \u001b[39m'\u001b[39;49m\u001b[39mTIPOVUELO\u001b[39;49m\u001b[39m'\u001b[39;49m, \u001b[39m'\u001b[39;49m\u001b[39mSIGLADES\u001b[39;49m\u001b[39m'\u001b[39;49m, \u001b[39m'\u001b[39;49m\u001b[39mDIANOM\u001b[39;49m\u001b[39m'\u001b[39;49m, \u001b[39m'\u001b[39;49m\u001b[39mdelay\u001b[39;49m\u001b[39m'\u001b[39;49m]], random_state \u001b[39m=\u001b[39m \u001b[39m111\u001b[39m)\n",
      "File \u001b[1;32mc:\\Users\\AORUS\\Documents\\ia\\latam-test\\venv\\lib\\site-packages\\pandas\\core\\frame.py:3464\u001b[0m, in \u001b[0;36mDataFrame.__getitem__\u001b[1;34m(self, key)\u001b[0m\n\u001b[0;32m   3462\u001b[0m     \u001b[39mif\u001b[39;00m is_iterator(key):\n\u001b[0;32m   3463\u001b[0m         key \u001b[39m=\u001b[39m \u001b[39mlist\u001b[39m(key)\n\u001b[1;32m-> 3464\u001b[0m     indexer \u001b[39m=\u001b[39m \u001b[39mself\u001b[39;49m\u001b[39m.\u001b[39;49mloc\u001b[39m.\u001b[39;49m_get_listlike_indexer(key, axis\u001b[39m=\u001b[39;49m\u001b[39m1\u001b[39;49m)[\u001b[39m1\u001b[39m]\n\u001b[0;32m   3466\u001b[0m \u001b[39m# take() does not accept boolean indexers\u001b[39;00m\n\u001b[0;32m   3467\u001b[0m \u001b[39mif\u001b[39;00m \u001b[39mgetattr\u001b[39m(indexer, \u001b[39m\"\u001b[39m\u001b[39mdtype\u001b[39m\u001b[39m\"\u001b[39m, \u001b[39mNone\u001b[39;00m) \u001b[39m==\u001b[39m \u001b[39mbool\u001b[39m:\n",
      "File \u001b[1;32mc:\\Users\\AORUS\\Documents\\ia\\latam-test\\venv\\lib\\site-packages\\pandas\\core\\indexing.py:1314\u001b[0m, in \u001b[0;36m_LocIndexer._get_listlike_indexer\u001b[1;34m(self, key, axis)\u001b[0m\n\u001b[0;32m   1311\u001b[0m \u001b[39melse\u001b[39;00m:\n\u001b[0;32m   1312\u001b[0m     keyarr, indexer, new_indexer \u001b[39m=\u001b[39m ax\u001b[39m.\u001b[39m_reindex_non_unique(keyarr)\n\u001b[1;32m-> 1314\u001b[0m \u001b[39mself\u001b[39;49m\u001b[39m.\u001b[39;49m_validate_read_indexer(keyarr, indexer, axis)\n\u001b[0;32m   1316\u001b[0m \u001b[39mif\u001b[39;00m needs_i8_conversion(ax\u001b[39m.\u001b[39mdtype) \u001b[39mor\u001b[39;00m \u001b[39misinstance\u001b[39m(\n\u001b[0;32m   1317\u001b[0m     ax, (IntervalIndex, CategoricalIndex)\n\u001b[0;32m   1318\u001b[0m ):\n\u001b[0;32m   1319\u001b[0m     \u001b[39m# For CategoricalIndex take instead of reindex to preserve dtype.\u001b[39;00m\n\u001b[0;32m   1320\u001b[0m     \u001b[39m#  For IntervalIndex this is to map integers to the Intervals they match to.\u001b[39;00m\n\u001b[0;32m   1321\u001b[0m     keyarr \u001b[39m=\u001b[39m ax\u001b[39m.\u001b[39mtake(indexer)\n",
      "File \u001b[1;32mc:\\Users\\AORUS\\Documents\\ia\\latam-test\\venv\\lib\\site-packages\\pandas\\core\\indexing.py:1377\u001b[0m, in \u001b[0;36m_LocIndexer._validate_read_indexer\u001b[1;34m(self, key, indexer, axis)\u001b[0m\n\u001b[0;32m   1374\u001b[0m     \u001b[39mraise\u001b[39;00m \u001b[39mKeyError\u001b[39;00m(\u001b[39mf\u001b[39m\u001b[39m\"\u001b[39m\u001b[39mNone of [\u001b[39m\u001b[39m{\u001b[39;00mkey\u001b[39m}\u001b[39;00m\u001b[39m] are in the [\u001b[39m\u001b[39m{\u001b[39;00maxis_name\u001b[39m}\u001b[39;00m\u001b[39m]\u001b[39m\u001b[39m\"\u001b[39m)\n\u001b[0;32m   1376\u001b[0m not_found \u001b[39m=\u001b[39m \u001b[39mlist\u001b[39m(ensure_index(key)[missing_mask\u001b[39m.\u001b[39mnonzero()[\u001b[39m0\u001b[39m]]\u001b[39m.\u001b[39munique())\n\u001b[1;32m-> 1377\u001b[0m \u001b[39mraise\u001b[39;00m \u001b[39mKeyError\u001b[39;00m(\u001b[39mf\u001b[39m\u001b[39m\"\u001b[39m\u001b[39m{\u001b[39;00mnot_found\u001b[39m}\u001b[39;00m\u001b[39m not in index\u001b[39m\u001b[39m\"\u001b[39m)\n",
      "\u001b[1;31mKeyError\u001b[0m: \"['delay'] not in index\""
     ]
    }
   ],
   "source": [
    "training_data = shuffle(data[['OPERA', 'MES', 'TIPOVUELO', 'SIGLADES', 'DIANOM', 'delay']], random_state = 111)"
   ]
  },
  {
   "cell_type": "code",
   "execution_count": 14,
   "metadata": {},
   "outputs": [
    {
     "ename": "KeyError",
     "evalue": "'delay'",
     "output_type": "error",
     "traceback": [
      "\u001b[1;31m---------------------------------------------------------------------------\u001b[0m",
      "\u001b[1;31mKeyError\u001b[0m                                  Traceback (most recent call last)",
      "File \u001b[1;32mc:\\Users\\AORUS\\Documents\\ia\\latam-test\\venv\\lib\\site-packages\\pandas\\core\\indexes\\base.py:3361\u001b[0m, in \u001b[0;36mIndex.get_loc\u001b[1;34m(self, key, method, tolerance)\u001b[0m\n\u001b[0;32m   3360\u001b[0m \u001b[39mtry\u001b[39;00m:\n\u001b[1;32m-> 3361\u001b[0m     \u001b[39mreturn\u001b[39;00m \u001b[39mself\u001b[39;49m\u001b[39m.\u001b[39;49m_engine\u001b[39m.\u001b[39;49mget_loc(casted_key)\n\u001b[0;32m   3362\u001b[0m \u001b[39mexcept\u001b[39;00m \u001b[39mKeyError\u001b[39;00m \u001b[39mas\u001b[39;00m err:\n",
      "File \u001b[1;32mc:\\Users\\AORUS\\Documents\\ia\\latam-test\\venv\\lib\\site-packages\\pandas\\_libs\\index.pyx:76\u001b[0m, in \u001b[0;36mpandas._libs.index.IndexEngine.get_loc\u001b[1;34m()\u001b[0m\n",
      "File \u001b[1;32mc:\\Users\\AORUS\\Documents\\ia\\latam-test\\venv\\lib\\site-packages\\pandas\\_libs\\index.pyx:108\u001b[0m, in \u001b[0;36mpandas._libs.index.IndexEngine.get_loc\u001b[1;34m()\u001b[0m\n",
      "File \u001b[1;32mpandas\\_libs\\hashtable_class_helper.pxi:5198\u001b[0m, in \u001b[0;36mpandas._libs.hashtable.PyObjectHashTable.get_item\u001b[1;34m()\u001b[0m\n",
      "File \u001b[1;32mpandas\\_libs\\hashtable_class_helper.pxi:5206\u001b[0m, in \u001b[0;36mpandas._libs.hashtable.PyObjectHashTable.get_item\u001b[1;34m()\u001b[0m\n",
      "\u001b[1;31mKeyError\u001b[0m: 'delay'",
      "\nThe above exception was the direct cause of the following exception:\n",
      "\u001b[1;31mKeyError\u001b[0m                                  Traceback (most recent call last)",
      "\u001b[1;32mc:\\Users\\AORUS\\Documents\\ia\\latam-test\\challenge\\exploration.ipynb Cell 39\u001b[0m line \u001b[0;36m7\n\u001b[0;32m      <a href='vscode-notebook-cell:/c%3A/Users/AORUS/Documents/ia/latam-test/challenge/exploration.ipynb#X53sZmlsZQ%3D%3D?line=0'>1</a>\u001b[0m features \u001b[39m=\u001b[39m pd\u001b[39m.\u001b[39mconcat([\n\u001b[0;32m      <a href='vscode-notebook-cell:/c%3A/Users/AORUS/Documents/ia/latam-test/challenge/exploration.ipynb#X53sZmlsZQ%3D%3D?line=1'>2</a>\u001b[0m     pd\u001b[39m.\u001b[39mget_dummies(data[\u001b[39m'\u001b[39m\u001b[39mOPERA\u001b[39m\u001b[39m'\u001b[39m], prefix \u001b[39m=\u001b[39m \u001b[39m'\u001b[39m\u001b[39mOPERA\u001b[39m\u001b[39m'\u001b[39m),\n\u001b[0;32m      <a href='vscode-notebook-cell:/c%3A/Users/AORUS/Documents/ia/latam-test/challenge/exploration.ipynb#X53sZmlsZQ%3D%3D?line=2'>3</a>\u001b[0m     pd\u001b[39m.\u001b[39mget_dummies(data[\u001b[39m'\u001b[39m\u001b[39mTIPOVUELO\u001b[39m\u001b[39m'\u001b[39m], prefix \u001b[39m=\u001b[39m \u001b[39m'\u001b[39m\u001b[39mTIPOVUELO\u001b[39m\u001b[39m'\u001b[39m), \n\u001b[0;32m      <a href='vscode-notebook-cell:/c%3A/Users/AORUS/Documents/ia/latam-test/challenge/exploration.ipynb#X53sZmlsZQ%3D%3D?line=3'>4</a>\u001b[0m     pd\u001b[39m.\u001b[39mget_dummies(data[\u001b[39m'\u001b[39m\u001b[39mMES\u001b[39m\u001b[39m'\u001b[39m], prefix \u001b[39m=\u001b[39m \u001b[39m'\u001b[39m\u001b[39mMES\u001b[39m\u001b[39m'\u001b[39m)], \n\u001b[0;32m      <a href='vscode-notebook-cell:/c%3A/Users/AORUS/Documents/ia/latam-test/challenge/exploration.ipynb#X53sZmlsZQ%3D%3D?line=4'>5</a>\u001b[0m     axis \u001b[39m=\u001b[39m \u001b[39m1\u001b[39m\n\u001b[0;32m      <a href='vscode-notebook-cell:/c%3A/Users/AORUS/Documents/ia/latam-test/challenge/exploration.ipynb#X53sZmlsZQ%3D%3D?line=5'>6</a>\u001b[0m )\n\u001b[1;32m----> <a href='vscode-notebook-cell:/c%3A/Users/AORUS/Documents/ia/latam-test/challenge/exploration.ipynb#X53sZmlsZQ%3D%3D?line=6'>7</a>\u001b[0m target \u001b[39m=\u001b[39m data[\u001b[39m'\u001b[39;49m\u001b[39mdelay\u001b[39;49m\u001b[39m'\u001b[39;49m]\n",
      "File \u001b[1;32mc:\\Users\\AORUS\\Documents\\ia\\latam-test\\venv\\lib\\site-packages\\pandas\\core\\frame.py:3458\u001b[0m, in \u001b[0;36mDataFrame.__getitem__\u001b[1;34m(self, key)\u001b[0m\n\u001b[0;32m   3456\u001b[0m \u001b[39mif\u001b[39;00m \u001b[39mself\u001b[39m\u001b[39m.\u001b[39mcolumns\u001b[39m.\u001b[39mnlevels \u001b[39m>\u001b[39m \u001b[39m1\u001b[39m:\n\u001b[0;32m   3457\u001b[0m     \u001b[39mreturn\u001b[39;00m \u001b[39mself\u001b[39m\u001b[39m.\u001b[39m_getitem_multilevel(key)\n\u001b[1;32m-> 3458\u001b[0m indexer \u001b[39m=\u001b[39m \u001b[39mself\u001b[39;49m\u001b[39m.\u001b[39;49mcolumns\u001b[39m.\u001b[39;49mget_loc(key)\n\u001b[0;32m   3459\u001b[0m \u001b[39mif\u001b[39;00m is_integer(indexer):\n\u001b[0;32m   3460\u001b[0m     indexer \u001b[39m=\u001b[39m [indexer]\n",
      "File \u001b[1;32mc:\\Users\\AORUS\\Documents\\ia\\latam-test\\venv\\lib\\site-packages\\pandas\\core\\indexes\\base.py:3363\u001b[0m, in \u001b[0;36mIndex.get_loc\u001b[1;34m(self, key, method, tolerance)\u001b[0m\n\u001b[0;32m   3361\u001b[0m         \u001b[39mreturn\u001b[39;00m \u001b[39mself\u001b[39m\u001b[39m.\u001b[39m_engine\u001b[39m.\u001b[39mget_loc(casted_key)\n\u001b[0;32m   3362\u001b[0m     \u001b[39mexcept\u001b[39;00m \u001b[39mKeyError\u001b[39;00m \u001b[39mas\u001b[39;00m err:\n\u001b[1;32m-> 3363\u001b[0m         \u001b[39mraise\u001b[39;00m \u001b[39mKeyError\u001b[39;00m(key) \u001b[39mfrom\u001b[39;00m \u001b[39merr\u001b[39;00m\n\u001b[0;32m   3365\u001b[0m \u001b[39mif\u001b[39;00m is_scalar(key) \u001b[39mand\u001b[39;00m isna(key) \u001b[39mand\u001b[39;00m \u001b[39mnot\u001b[39;00m \u001b[39mself\u001b[39m\u001b[39m.\u001b[39mhasnans:\n\u001b[0;32m   3366\u001b[0m     \u001b[39mraise\u001b[39;00m \u001b[39mKeyError\u001b[39;00m(key)\n",
      "\u001b[1;31mKeyError\u001b[0m: 'delay'"
     ]
    }
   ],
   "source": [
    "features = pd.concat([\n",
    "    pd.get_dummies(data['OPERA'], prefix = 'OPERA'),\n",
    "    pd.get_dummies(data['TIPOVUELO'], prefix = 'TIPOVUELO'), \n",
    "    pd.get_dummies(data['MES'], prefix = 'MES')], \n",
    "    axis = 1\n",
    ")\n",
    "target = data['delay']"
   ]
  },
  {
   "cell_type": "code",
   "execution_count": null,
   "metadata": {},
   "outputs": [],
   "source": [
    "x_train, x_test, y_train, y_test = train_test_split(features, target, test_size = 0.33, random_state = 42)"
   ]
  },
  {
   "cell_type": "code",
   "execution_count": null,
   "metadata": {},
   "outputs": [],
   "source": [
    "print(f\"train shape: {x_train.shape} | test shape: {x_test.shape}\")"
   ]
  },
  {
   "cell_type": "code",
   "execution_count": null,
   "metadata": {},
   "outputs": [],
   "source": [
    "y_train.value_counts('%')*100"
   ]
  },
  {
   "cell_type": "code",
   "execution_count": null,
   "metadata": {},
   "outputs": [],
   "source": [
    "y_test.value_counts('%')*100"
   ]
  },
  {
   "attachments": {},
   "cell_type": "markdown",
   "metadata": {},
   "source": [
    "### 4.b. Model Selection"
   ]
  },
  {
   "attachments": {},
   "cell_type": "markdown",
   "metadata": {},
   "source": [
    "#### 4.b.i. XGBoost"
   ]
  },
  {
   "cell_type": "code",
   "execution_count": null,
   "metadata": {},
   "outputs": [],
   "source": [
    "import xgboost as xgb\n",
    "from xgboost import plot_importance"
   ]
  },
  {
   "cell_type": "code",
   "execution_count": null,
   "metadata": {},
   "outputs": [],
   "source": [
    "xgb_model = xgb.XGBClassifier(random_state=1, learning_rate=0.01)\n",
    "xgb_model.fit(x_train, y_train)"
   ]
  },
  {
   "cell_type": "code",
   "execution_count": null,
   "metadata": {},
   "outputs": [],
   "source": [
    "xgboost_y_preds = xgb_model.predict(x_test)\n",
    "xgboost_y_preds = [1 if y_pred > 0.5 else 0 for y_pred in xgboost_y_preds]"
   ]
  },
  {
   "cell_type": "code",
   "execution_count": null,
   "metadata": {},
   "outputs": [],
   "source": [
    "confusion_matrix(y_test, xgboost_y_preds)"
   ]
  },
  {
   "cell_type": "code",
   "execution_count": null,
   "metadata": {},
   "outputs": [],
   "source": [
    "print(classification_report(y_test, xgboost_y_preds))"
   ]
  },
  {
   "cell_type": "markdown",
   "metadata": {},
   "source": [
    "#### 4.b.ii. Logistic Regression"
   ]
  },
  {
   "cell_type": "code",
   "execution_count": null,
   "metadata": {},
   "outputs": [],
   "source": [
    "from sklearn.linear_model import LogisticRegression"
   ]
  },
  {
   "cell_type": "code",
   "execution_count": null,
   "metadata": {},
   "outputs": [],
   "source": [
    "reg_model = LogisticRegression()\n",
    "reg_model.fit(x_train, y_train)"
   ]
  },
  {
   "cell_type": "code",
   "execution_count": null,
   "metadata": {},
   "outputs": [],
   "source": [
    "reg_y_preds = reg_model.predict(x_test)"
   ]
  },
  {
   "cell_type": "code",
   "execution_count": null,
   "metadata": {},
   "outputs": [],
   "source": [
    "confusion_matrix(y_test, reg_y_preds)"
   ]
  },
  {
   "cell_type": "code",
   "execution_count": null,
   "metadata": {},
   "outputs": [],
   "source": [
    "print(classification_report(y_test, reg_y_preds))"
   ]
  },
  {
   "attachments": {},
   "cell_type": "markdown",
   "metadata": {},
   "source": [
    "## 5. Data Analysis: Third Sight"
   ]
  },
  {
   "attachments": {},
   "cell_type": "markdown",
   "metadata": {},
   "source": [
    "### Feature Importance"
   ]
  },
  {
   "cell_type": "code",
   "execution_count": null,
   "metadata": {},
   "outputs": [],
   "source": [
    "plt.figure(figsize = (10,5))\n",
    "plot_importance(xgb_model)"
   ]
  },
  {
   "cell_type": "code",
   "execution_count": 15,
   "metadata": {},
   "outputs": [],
   "source": [
    "top_10_features = [\n",
    "    \"OPERA_Latin American Wings\", \n",
    "    \"MES_7\",\n",
    "    \"MES_10\",\n",
    "    \"OPERA_Grupo LATAM\",\n",
    "    \"MES_12\",\n",
    "    \"TIPOVUELO_I\",\n",
    "    \"MES_4\",\n",
    "    \"MES_11\",\n",
    "    \"OPERA_Sky Airline\",\n",
    "    \"OPERA_Copa Air\"\n",
    "]"
   ]
  },
  {
   "attachments": {},
   "cell_type": "markdown",
   "metadata": {},
   "source": [
    "### Data Balance"
   ]
  },
  {
   "cell_type": "code",
   "execution_count": null,
   "metadata": {},
   "outputs": [],
   "source": [
    "n_y0 = len(y_train[y_train == 0])\n",
    "n_y1 = len(y_train[y_train == 1])\n",
    "scale = n_y0/n_y1\n",
    "print(scale)"
   ]
  },
  {
   "attachments": {},
   "cell_type": "markdown",
   "metadata": {},
   "source": [
    "## 6. Training with Improvement"
   ]
  },
  {
   "attachments": {},
   "cell_type": "markdown",
   "metadata": {},
   "source": [
    "### 6.a. Data Split"
   ]
  },
  {
   "cell_type": "code",
   "execution_count": null,
   "metadata": {},
   "outputs": [],
   "source": [
    "x_train2, x_test2, y_train2, y_test2 = train_test_split(features[top_10_features], target, test_size = 0.33, random_state = 42)"
   ]
  },
  {
   "attachments": {},
   "cell_type": "markdown",
   "metadata": {},
   "source": [
    "### 6.b. Model Selection"
   ]
  },
  {
   "attachments": {},
   "cell_type": "markdown",
   "metadata": {},
   "source": [
    "#### 6.b.i. XGBoost with Feature Importance and with Balance"
   ]
  },
  {
   "cell_type": "code",
   "execution_count": null,
   "metadata": {},
   "outputs": [],
   "source": [
    "xgb_model_2 = xgb.XGBClassifier(random_state=1, learning_rate=0.01, scale_pos_weight = scale)\n",
    "xgb_model_2.fit(x_train2, y_train2)"
   ]
  },
  {
   "cell_type": "code",
   "execution_count": null,
   "metadata": {},
   "outputs": [],
   "source": [
    "xgboost_y_preds_2 = xgb_model_2.predict(x_test2)"
   ]
  },
  {
   "cell_type": "code",
   "execution_count": null,
   "metadata": {},
   "outputs": [],
   "source": [
    "confusion_matrix(y_test2, xgboost_y_preds_2)"
   ]
  },
  {
   "cell_type": "code",
   "execution_count": null,
   "metadata": {},
   "outputs": [],
   "source": [
    "print(classification_report(y_test2, xgboost_y_preds_2))"
   ]
  },
  {
   "attachments": {},
   "cell_type": "markdown",
   "metadata": {},
   "source": [
    "#### 6.b.ii. XGBoost with Feature Importance but without Balance"
   ]
  },
  {
   "cell_type": "code",
   "execution_count": null,
   "metadata": {},
   "outputs": [],
   "source": [
    "xgb_model_3 = xgb.XGBClassifier(random_state=1, learning_rate=0.01)\n",
    "xgb_model_3.fit(x_train2, y_train2)"
   ]
  },
  {
   "cell_type": "code",
   "execution_count": null,
   "metadata": {},
   "outputs": [],
   "source": [
    "xgboost_y_preds_3 = xgb_model_3.predict(x_test2)"
   ]
  },
  {
   "cell_type": "code",
   "execution_count": null,
   "metadata": {},
   "outputs": [],
   "source": [
    "confusion_matrix(y_test2, xgboost_y_preds_3)"
   ]
  },
  {
   "cell_type": "code",
   "execution_count": null,
   "metadata": {},
   "outputs": [],
   "source": [
    "print(classification_report(y_test2, xgboost_y_preds_3))"
   ]
  },
  {
   "attachments": {},
   "cell_type": "markdown",
   "metadata": {},
   "source": [
    "#### 6.b.iii. Logistic Regression with Feature Importante and with Balance"
   ]
  },
  {
   "cell_type": "code",
   "execution_count": null,
   "metadata": {},
   "outputs": [],
   "source": [
    "reg_model_2 = LogisticRegression(class_weight={1: n_y0/len(y_train), 0: n_y1/len(y_train)})\n",
    "reg_model_2.fit(x_train2, y_train2)"
   ]
  },
  {
   "cell_type": "code",
   "execution_count": null,
   "metadata": {},
   "outputs": [],
   "source": [
    "reg_y_preds_2 = reg_model_2.predict(x_test2)"
   ]
  },
  {
   "cell_type": "code",
   "execution_count": null,
   "metadata": {},
   "outputs": [],
   "source": [
    "confusion_matrix(y_test2, reg_y_preds_2)"
   ]
  },
  {
   "cell_type": "code",
   "execution_count": null,
   "metadata": {},
   "outputs": [],
   "source": [
    "print(classification_report(y_test2, reg_y_preds_2))"
   ]
  },
  {
   "attachments": {},
   "cell_type": "markdown",
   "metadata": {},
   "source": [
    "#### 6.b.iv. Logistic Regression with Feature Importante but without Balance"
   ]
  },
  {
   "cell_type": "code",
   "execution_count": null,
   "metadata": {},
   "outputs": [],
   "source": [
    "reg_model_3 = LogisticRegression()\n",
    "reg_model_3.fit(x_train2, y_train2)"
   ]
  },
  {
   "cell_type": "code",
   "execution_count": null,
   "metadata": {},
   "outputs": [],
   "source": [
    "reg_y_preds_3 = reg_model_3.predict(x_test2)"
   ]
  },
  {
   "cell_type": "code",
   "execution_count": null,
   "metadata": {},
   "outputs": [],
   "source": [
    "confusion_matrix(y_test2, reg_y_preds_3)"
   ]
  },
  {
   "cell_type": "code",
   "execution_count": null,
   "metadata": {},
   "outputs": [],
   "source": [
    "print(classification_report(y_test2, reg_y_preds_3))"
   ]
  },
  {
   "attachments": {},
   "cell_type": "markdown",
   "metadata": {},
   "source": [
    "## 7. Data Science Conclusions"
   ]
  },
  {
   "attachments": {},
   "cell_type": "markdown",
   "metadata": {},
   "source": [
    "By looking at the results of the 6 trained models, it can be determined:\n",
    "- There is no noticeable difference in results between XGBoost and LogisticRegression.\n",
    "- Does not decrease the performance of the model by reducing the features to the 10 most important.\n",
    "- Improves the model's performance when balancing classes, since it increases the recall of class \"1\"."
   ]
  },
  {
   "attachments": {},
   "cell_type": "markdown",
   "metadata": {},
   "source": [
    "**With this, the model to be productive must be the one that is trained with the top 10 features and class balancing, but which one?**"
   ]
  }
 ],
 "metadata": {
  "kernelspec": {
   "display_name": "mle-challenge",
   "language": "python",
   "name": "python3"
  },
  "language_info": {
   "codemirror_mode": {
    "name": "ipython",
    "version": 3
   },
   "file_extension": ".py",
   "mimetype": "text/x-python",
   "name": "python",
   "nbconvert_exporter": "python",
   "pygments_lexer": "ipython3",
   "version": "3.10.6"
  },
  "orig_nbformat": 4
 },
 "nbformat": 4,
 "nbformat_minor": 2
}
